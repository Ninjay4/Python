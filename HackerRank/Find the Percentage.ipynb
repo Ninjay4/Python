'''
FILE NAME: Find the Percentage
CREATED BY: Ninjay4
CREATED ON: 
MODIFIED ON:
DESCRIPTION:
HackerRank Challenge: Finding the Percentage
Basic Python
The provided code stub will read in a dictionary
containing key/value pairs of name:[marks] for a list of students.
TASK:
Print the average of the marks array for the student name provided, showing 2 places after the decimal.
'''
{
 "cells": [
  {
   "cell_type": "code",
   "execution_count": 1,
   "metadata": {},
   "outputs": [],
   "source": []
  },
  {
   "cell_type": "code",
   "execution_count": 2,
   "metadata": {},
   "outputs": [],
   "source": [
    "# import the mean function from the Statistics library\n",
    "# This will help to automatically calculate the average value of a list \n",
    "from statistics import mean"
   ]
  },
  {
   "cell_type": "code",
   "execution_count": 3,
   "metadata": {},
   "outputs": [],
   "source": [
    "# Create the dictionary using Curly Brackets\n",
    "student_marks = {}"
   ]
  },
  {
   "cell_type": "code",
   "execution_count": 5,
   "metadata": {},
   "outputs": [
    {
     "name": "stdout",
     "output_type": "stream",
     "text": [
      "Enter the number of records to be entered: 5\n"
     ]
    }
   ],
   "source": [
    "# Set up the input for the number, \"n\", of student records to be entered\n",
    "n = int(input(\"Enter the number of records to be entered: \"))"
   ]
  },
  {
   "cell_type": "code",
   "execution_count": 6,
   "metadata": {},
   "outputs": [],
   "source": [
    "# Enter the following student record data into the input loop below\n",
    "# alpha 20 30 40\n",
    "# beta 30 50 70\n",
    "# Krishna 67 68 69\n",
    "# Arjun 70 98 63\n",
    "# Malika 52 56 60"
   ]
  },
  {
   "cell_type": "code",
   "execution_count": 7,
   "metadata": {},
   "outputs": [
    {
     "name": "stdout",
     "output_type": "stream",
     "text": [
      "Enter the student record data: alpha 20 30 40\n",
      "Enter the student record data: beta 30 50 70\n",
      "Enter the student record data: Krishna 67 68 69\n",
      "Enter the student record data: Arjun 70 98 63\n",
      "Enter the student record data: Malika 52 56 60\n"
     ]
    }
   ],
   "source": [
    "# Set up the \"input loop\"\n",
    "for _ in range(n):\n",
    "    name, *line = input(\"Enter the student record data: \").split()\n",
    "    scores = list(map(float, line))\n",
    "    student_marks[name] = scores"
   ]
  },
  {
   "cell_type": "code",
   "execution_count": 8,
   "metadata": {},
   "outputs": [
    {
     "name": "stdout",
     "output_type": "stream",
     "text": [
      "Enter a student name: Malika\n"
     ]
    }
   ],
   "source": [
    "# Select a name from the student record data\n",
    "query_name = input(\"Enter a student name: \")"
   ]
  },
  {
   "cell_type": "code",
   "execution_count": 9,
   "metadata": {},
   "outputs": [],
   "source": [
    "# Use the mean function to calulate the average value\n",
    "# Use the format function to convert the answer to a decimal number of 2 places\n",
    "average = format(mean(student_marks[query_name]), \".2f\")"
   ]
  },
  {
   "cell_type": "code",
   "execution_count": 10,
   "metadata": {},
   "outputs": [
    {
     "name": "stdout",
     "output_type": "stream",
     "text": [
      "56.00\n"
     ]
    }
   ],
   "source": [
    "# Print the answer\n",
    "print(average)"
   ]
  },
  {
   "cell_type": "code",
   "execution_count": null,
   "metadata": {},
   "outputs": [],
   "source": []
  }
 ],
 "metadata": {
  "kernelspec": {
   "display_name": "Python 3",
   "language": "python",
   "name": "python3"
  },
  "language_info": {
   "codemirror_mode": {
    "name": "ipython",
    "version": 3
   },
   "file_extension": ".py",
   "mimetype": "text/x-python",
   "name": "python",
   "nbconvert_exporter": "python",
   "pygments_lexer": "ipython3",
   "version": "3.8.5"
  }
 },
 "nbformat": 4,
 "nbformat_minor": 4
}
