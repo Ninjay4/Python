{
 "cells": [
  {
   "cell_type": "code",
   "execution_count": 2,
   "metadata": {},
   "outputs": [],
   "source": [
    "# HackerRank Challenge: Finding the Percentage\n",
    "# The provided code stub will read in a dictionary \n",
    "# containing key/value pairs of name:[marks] for a list of students. \n",
    "# Print the average of the marks array for the student name provided, showing 2 places after the decimal. "
   ]
  },
  {
   "cell_type": "code",
   "execution_count": 3,
   "metadata": {},
   "outputs": [],
   "source": [
    "# import the mean function from the Statistics library\n",
    "# This will help to automatically calculate the average value of a list \n",
    "from statistics import mean"
   ]
  },
  {
   "cell_type": "code",
   "execution_count": 4,
   "metadata": {},
   "outputs": [],
   "source": [
    "# Create the dictionary using Curly Brackets\n",
    "student_marks = {}"
   ]
  },
  {
   "cell_type": "code",
   "execution_count": 6,
   "metadata": {},
   "outputs": [],
   "source": [
    "student_marks['alpha'] = [20, 30, 40]\n",
    "student_marks['beta'] = [30, 50, 70]\n",
    "student_marks['Krishna'] = [67, 68, 69]\n",
    "student_marks['Arjun'] = [70, 98, 63]\n",
    "student_marks['Malika'] = [52, 56, 60]"
   ]
  },
  {
   "cell_type": "code",
   "execution_count": 12,
   "metadata": {},
   "outputs": [],
   "source": [
    "# Select a name\n",
    "query_name = 'Arjun'"
   ]
  },
  {
   "cell_type": "code",
   "execution_count": 13,
   "metadata": {},
   "outputs": [],
   "source": [
    "# Use mean to calulate the average value\n",
    "# Use format to convert the answer to a decimal number of 2 places\n",
    "average = format(mean(student_marks[query_name]), \".2f\")"
   ]
  },
  {
   "cell_type": "code",
   "execution_count": 14,
   "metadata": {},
   "outputs": [
    {
     "name": "stdout",
     "output_type": "stream",
     "text": [
      "77.00\n"
     ]
    }
   ],
   "source": [
    "# Print the answer\n",
    "print(average)"
   ]
  },
  {
   "cell_type": "code",
   "execution_count": null,
   "metadata": {},
   "outputs": [],
   "source": []
  }
 ],
 "metadata": {
  "kernelspec": {
   "display_name": "Python 3",
   "language": "python",
   "name": "python3"
  },
  "language_info": {
   "codemirror_mode": {
    "name": "ipython",
    "version": 3
   },
   "file_extension": ".py",
   "mimetype": "text/x-python",
   "name": "python",
   "nbconvert_exporter": "python",
   "pygments_lexer": "ipython3",
   "version": "3.8.5"
  }
 },
 "nbformat": 4,
 "nbformat_minor": 4
}
