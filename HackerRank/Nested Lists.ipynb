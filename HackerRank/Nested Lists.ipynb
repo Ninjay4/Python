{
 "cells": [
  {
   "cell_type": "markdown",
   "metadata": {},
   "source": [
    "# Instructions"
   ]
  },
  {
   "cell_type": "markdown",
   "metadata": {},
   "source": [
    "## Given the names and grades for each student in a class of 'N' students, \n",
    "## store them in a nested list and print the name(s) of any student(s) having the second lowest grade.\n",
    "## Note: If there are multiple students with the second lowest grade, \n",
    "## order their names alphabetically and print each name on a new line."
   ]
  },
  {
   "cell_type": "code",
   "execution_count": 3,
   "metadata": {},
   "outputs": [],
   "source": [
    "# Create the nested list\n",
    "students = [(\"Harry\", 37.21), (\"Barry\", 37.21), (\"Tina\", 37.2), (\"Akriti\", 41), (\"Harsh\", 39)]"
   ]
  },
  {
   "cell_type": "code",
   "execution_count": 6,
   "metadata": {},
   "outputs": [
    {
     "name": "stdout",
     "output_type": "stream",
     "text": [
      "5\n"
     ]
    }
   ],
   "source": [
    "N = len(students)\n",
    "print(N) # Print to verify the number of items"
   ]
  },
  {
   "cell_type": "code",
   "execution_count": 7,
   "metadata": {},
   "outputs": [],
   "source": [
    "# How to find the second lowest grade\n",
    "# Create a new list that contains only the grades\n",
    "grades = []\n",
    "for i in range(N):\n",
    "    grades.append(students[i][1])"
   ]
  },
  {
   "cell_type": "code",
   "execution_count": 8,
   "metadata": {},
   "outputs": [
    {
     "name": "stdout",
     "output_type": "stream",
     "text": [
      "[37.21, 37.21, 37.2, 41, 39]\n"
     ]
    }
   ],
   "source": [
    "print(grades) # Print to verify that the list is correct"
   ]
  },
  {
   "cell_type": "code",
   "execution_count": 9,
   "metadata": {},
   "outputs": [
    {
     "name": "stdout",
     "output_type": "stream",
     "text": [
      "{41, 37.2, 37.21, 39}\n"
     ]
    }
   ],
   "source": [
    "# Turn the list into a set, so that any duplicate values will be removed\n",
    "gradesSet = set(grades)\n",
    "print(gradesSet) # Print to verify that there are no duplicate values"
   ]
  },
  {
   "cell_type": "code",
   "execution_count": 11,
   "metadata": {},
   "outputs": [
    {
     "name": "stdout",
     "output_type": "stream",
     "text": [
      "[37.2, 37.21, 39, 41]\n"
     ]
    }
   ],
   "source": [
    "# Sort the set so that the values will be in ascending order\n",
    "# by creating a new set\n",
    "sortedSet =sorted(gradesSet)\n",
    "print(sortedSet) # Print to verify"
   ]
  },
  {
   "cell_type": "code",
   "execution_count": 12,
   "metadata": {},
   "outputs": [
    {
     "name": "stdout",
     "output_type": "stream",
     "text": [
      "37.21\n"
     ]
    }
   ],
   "source": [
    "# The second element will be the 2nd Lowest Score\n",
    "# Create a new variable that contains the 2nd lowest score\n",
    "secondLow = sortedSet[1]\n",
    "print(secondLow) # Print the variable to verify the number"
   ]
  },
  {
   "cell_type": "code",
   "execution_count": 13,
   "metadata": {},
   "outputs": [
    {
     "name": "stdout",
     "output_type": "stream",
     "text": [
      "['Harry', 'Barry']\n"
     ]
    }
   ],
   "source": [
    "# Create a loop to find the students that have the second lowest score\n",
    "# Using the original nested list\n",
    "# Add their names to a new list\n",
    "\n",
    "resultList = []\n",
    "for i in range(N):\n",
    "    if students[i][1] == secondLow:\n",
    "        resultList.append(students[i][0])\n",
    "print(resultList) #To verify the names"
   ]
  },
  {
   "cell_type": "code",
   "execution_count": 17,
   "metadata": {},
   "outputs": [
    {
     "name": "stdout",
     "output_type": "stream",
     "text": [
      "Barry\n",
      "Harry\n"
     ]
    }
   ],
   "source": [
    "# Finally, print the names in alphabetical order and print each name on its own line\n",
    "print(*(sorted(resultList)), sep='\\n')"
   ]
  },
  {
   "cell_type": "code",
   "execution_count": null,
   "metadata": {},
   "outputs": [],
   "source": []
  }
 ],
 "metadata": {
  "kernelspec": {
   "display_name": "Python 3",
   "language": "python",
   "name": "python3"
  },
  "language_info": {
   "codemirror_mode": {
    "name": "ipython",
    "version": 3
   },
   "file_extension": ".py",
   "mimetype": "text/x-python",
   "name": "python",
   "nbconvert_exporter": "python",
   "pygments_lexer": "ipython3",
   "version": "3.8.5"
  }
 },
 "nbformat": 4,
 "nbformat_minor": 4
}
