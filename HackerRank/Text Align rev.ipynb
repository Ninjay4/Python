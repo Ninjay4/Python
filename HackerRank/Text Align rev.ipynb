{
 "cells": [
  {
   "cell_type": "markdown",
   "id": "2f118276",
   "metadata": {},
   "source": [
    "# Text Alignment"
   ]
  },
  {
   "cell_type": "code",
   "execution_count": 10,
   "id": "dfc8a493",
   "metadata": {},
   "outputs": [],
   "source": [
    "# Exploring an better way to code this\n",
    "# That looks better replicates the Logo"
   ]
  },
  {
   "cell_type": "markdown",
   "id": "e2cad86a",
   "metadata": {},
   "source": [
    "## Left Justify"
   ]
  },
  {
   "cell_type": "code",
   "execution_count": 1,
   "id": "d1b1d196",
   "metadata": {},
   "outputs": [
    {
     "name": "stdout",
     "output_type": "stream",
     "text": [
      "HackerRank----------\n"
     ]
    }
   ],
   "source": [
    "width = 20 # The width of the entire line\n",
    "print('HackerRank'.ljust(width, '-'))"
   ]
  },
  {
   "cell_type": "markdown",
   "id": "3917f50a",
   "metadata": {},
   "source": [
    "## Center"
   ]
  },
  {
   "cell_type": "code",
   "execution_count": 2,
   "id": "36676fe4",
   "metadata": {},
   "outputs": [
    {
     "name": "stdout",
     "output_type": "stream",
     "text": [
      "-----HackerRank-----\n"
     ]
    }
   ],
   "source": [
    "print('HackerRank'.center(width, '-'))"
   ]
  },
  {
   "cell_type": "markdown",
   "id": "d61998ab",
   "metadata": {},
   "source": [
    "## Right Justify "
   ]
  },
  {
   "cell_type": "code",
   "execution_count": 3,
   "id": "0613fdb2",
   "metadata": {},
   "outputs": [
    {
     "name": "stdout",
     "output_type": "stream",
     "text": [
      "----------HackerRank\n"
     ]
    }
   ],
   "source": [
    "print('HackerRank'.rjust(width, '-'))"
   ]
  },
  {
   "cell_type": "code",
   "execution_count": 4,
   "id": "2b90e775",
   "metadata": {},
   "outputs": [
    {
     "name": "stdout",
     "output_type": "stream",
     "text": [
      "Enter an odd integer between 0 and 50: 5\n"
     ]
    }
   ],
   "source": [
    "# Create input\n",
    "# Input contains the thickness value (must be an odd number)\n",
    "# An odd integer between 0 and 50\n",
    "thickness = int(input(\"Enter an odd integer between 0 and 50: \"))"
   ]
  },
  {
   "cell_type": "code",
   "execution_count": 5,
   "id": "aadb908e",
   "metadata": {},
   "outputs": [],
   "source": [
    "# Left-Sided Top Cone\n",
    "def lstcone(thickness):\n",
    "    n = 1 # The number of 'H's\n",
    "    width = (thickness + 4)\n",
    "    for i in range(thickness):\n",
    "        print((('H')*n).center(width))\n",
    "        n += 2"
   ]
  },
  {
   "cell_type": "code",
   "execution_count": 6,
   "id": "672194c1",
   "metadata": {},
   "outputs": [],
   "source": [
    "# Double Columns\n",
    "def dcolumns(thickness):\n",
    "    n = thickness\n",
    "    for i in range(thickness + 1):\n",
    "        print((('H')*0).rjust(2) + (('H')*n).ljust(thickness + 6) + (('H')*n).rjust(thickness + 6))"
   ]
  },
  {
   "cell_type": "code",
   "execution_count": 7,
   "id": "b18bbd01",
   "metadata": {},
   "outputs": [],
   "source": [
    "# Middle Belt\n",
    "def mbelt(thickness):\n",
    "    for i in range(3):\n",
    "        print((('H')*(thickness**2)).rjust((thickness**2) + 2))"
   ]
  },
  {
   "cell_type": "code",
   "execution_count": 8,
   "id": "d46820ed",
   "metadata": {},
   "outputs": [],
   "source": [
    "# Right-Sided Bottom Cone\n",
    "def rsbcone(thickness):\n",
    "    width = (thickness + 11)\n",
    "    n = 9\n",
    "    for i in range(thickness):\n",
    "        print((('H')*0).rjust(width) + ('H')*n)\n",
    "        width += 1\n",
    "        n -= 2"
   ]
  },
  {
   "cell_type": "code",
   "execution_count": 9,
   "id": "e07c77b0",
   "metadata": {},
   "outputs": [
    {
     "name": "stdout",
     "output_type": "stream",
     "text": [
      "    H    \n",
      "   HHH   \n",
      "  HHHHH  \n",
      " HHHHHHH \n",
      "HHHHHHHHH\n",
      "  HHHHH            HHHHH\n",
      "  HHHHH            HHHHH\n",
      "  HHHHH            HHHHH\n",
      "  HHHHH            HHHHH\n",
      "  HHHHH            HHHHH\n",
      "  HHHHH            HHHHH\n",
      "  HHHHHHHHHHHHHHHHHHHHHHHHH\n",
      "  HHHHHHHHHHHHHHHHHHHHHHHHH\n",
      "  HHHHHHHHHHHHHHHHHHHHHHHHH\n",
      "  HHHHH            HHHHH\n",
      "  HHHHH            HHHHH\n",
      "  HHHHH            HHHHH\n",
      "  HHHHH            HHHHH\n",
      "  HHHHH            HHHHH\n",
      "  HHHHH            HHHHH\n",
      "                HHHHHHHHH\n",
      "                 HHHHHHH\n",
      "                  HHHHH\n",
      "                   HHH\n",
      "                    H\n"
     ]
    }
   ],
   "source": [
    "# Call the functions to draw the complete Logo\n",
    "lstcone(thickness)\n",
    "dcolumns(thickness)\n",
    "mbelt(thickness)\n",
    "dcolumns(thickness)\n",
    "rsbcone(thickness)"
   ]
  }
 ],
 "metadata": {
  "kernelspec": {
   "display_name": "Python 3 (ipykernel)",
   "language": "python",
   "name": "python3"
  },
  "language_info": {
   "codemirror_mode": {
    "name": "ipython",
    "version": 3
   },
   "file_extension": ".py",
   "mimetype": "text/x-python",
   "name": "python",
   "nbconvert_exporter": "python",
   "pygments_lexer": "ipython3",
   "version": "3.10.9"
  }
 },
 "nbformat": 4,
 "nbformat_minor": 5
}
