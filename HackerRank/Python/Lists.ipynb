{
 "cells": [
  {
   "cell_type": "markdown",
   "metadata": {},
   "source": [
    "# Create a list of \"Commands\" that performs each command in the order given"
   ]
  },
  {
   "cell_type": "markdown",
   "metadata": {},
   "source": [
    "### Given \"N\" number of the following commands, create a loop that performs each command in the order that it is given. The commands are random and can occur in different quantities, in different orders, and not all of them may be present."
   ]
  },
  {
   "cell_type": "markdown",
   "metadata": {},
   "source": [
    "### Here are the commands where \"e\" is the element and \"i\" is the position of the element:\n",
    "####\tappend(e) - attaches the element (e) to the end of list\n",
    "####\tinsert(i,e) - adds an element (e) in the given position (i)\n",
    "####\tpop() - returns and removes the last element off the list\n",
    "####\tprint(ListName) - prints the list\n",
    "####\tremove(e) - removes the first instance of the given element (e)\n",
    "####\treverse() - puts the elements in the opposite order where the last becomes the first\n",
    "####\tsort() - orders the list in ascending order "
   ]
  },
  {
   "cell_type": "code",
   "execution_count": 7,
   "metadata": {},
   "outputs": [],
   "source": [
    "# Create the list of commands\n",
    "commandList = [(\"insert\", 0, 5), (\"insert\", 1, 10), (\"insert\", 0, 6), (\"print\"), (\"remove\", 6), (\"append\", 9), (\"append\", 1), (\"sort\"), (\"print\"), (\"pop\"), (\"reverse\"), (\"print\")]"
   ]
  },
  {
   "cell_type": "code",
   "execution_count": 8,
   "metadata": {},
   "outputs": [],
   "source": [
    "# N is the total number of commands\n",
    "N = 12\n",
    "# Create an empty list for the upcoming commands\n",
    "arr = []"
   ]
  },
  {
   "cell_type": "code",
   "execution_count": 5,
   "metadata": {},
   "outputs": [],
   "source": [
    "# Create the loop that iterates \"N\" times\n",
    "# Use conditional logic that is based on the command name to perform the functions"
   ]
  },
  {
   "cell_type": "code",
   "execution_count": 9,
   "metadata": {},
   "outputs": [
    {
     "name": "stdout",
     "output_type": "stream",
     "text": [
      "[6, 5, 10]\n",
      "[1, 5, 9, 10]\n",
      "[9, 5, 1]\n"
     ]
    }
   ],
   "source": [
    "for i in range(N):\n",
    "    if \"append\" in commandList[i]:\n",
    "        arr.append(commandList[i][1])\n",
    "    elif \"insert\" in commandList[i]:\n",
    "        arr.insert(commandList[i][1], commandList[i][2])\n",
    "    elif \"pop\" in commandList[i]:\n",
    "        arr.pop()\n",
    "    elif \"print\" in commandList[i]:\n",
    "        print(arr)\n",
    "    elif \"remove\" in commandList[i]:\n",
    "        arr.remove(commandList[i][1])\n",
    "    elif \"reverse\" in commandList[i]:\n",
    "        arr.reverse()\n",
    "    elif \"sort\" in commandList[i]:\n",
    "        arr.sort()"
   ]
  }
 ],
 "metadata": {
  "kernelspec": {
   "display_name": "Python 3",
   "language": "python",
   "name": "python3"
  },
  "language_info": {
   "codemirror_mode": {
    "name": "ipython",
    "version": 3
   },
   "file_extension": ".py",
   "mimetype": "text/x-python",
   "name": "python",
   "nbconvert_exporter": "python",
   "pygments_lexer": "ipython3",
   "version": "3.8.5"
  }
 },
 "nbformat": 4,
 "nbformat_minor": 4
}
